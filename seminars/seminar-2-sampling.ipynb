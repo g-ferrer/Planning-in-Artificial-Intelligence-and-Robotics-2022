{
 "cells": [
  {
   "cell_type": "markdown",
   "metadata": {},
   "source": [
    "# Sampling Methods\n",
    "In this seminar we will practice some of the concepts discussed in L04\n",
    "\n",
    "## Collision detection\n",
    "There are multiple ways to represent objects: Polygons, Polyhedral, Algebraic models, 3D triangles, meshes, NURBS, bitmaps,  SDFs, etc.For each of the object representations, there is an exact collision checker, however it might be tremendously complex and calculating the full Cobswould be impractical. This is just a brief introduction to the topic.\n",
    "\n",
    "### Regardless of the method, we can follow a 2-phase strategy:\n",
    "* Broad Phase: to avoid expensive calculations, we broadly describe objects as boxes or spheres.\n",
    "* Narrow Phase: details are checked. For some configurations (close to obstacles) this can be the only way.\n",
    "\n",
    "Our first task is to play around with visualisation here, below is provided some code for this.\n",
    "\n",
    "### This seminar will describe examples of checking collision in continous space\n"
   ]
  },
  {
   "cell_type": "markdown",
   "metadata": {},
   "source": [
    "## Imagine that we have point and obstacle in front of it"
   ]
  },
  {
   "cell_type": "code",
   "execution_count": 1,
   "metadata": {},
   "outputs": [],
   "source": [
    "%matplotlib inline\n",
    "from matplotlib import pyplot as plt\n",
    "import numpy as np\n",
    "\n",
    "def render(point, obstacle):\n",
    "    plt.plot(point[0], point[1], marker='o', color=[1,0,0])\n",
    "    plt.gca().add_patch(plt.Circle((obstacle[0], obstacle[1]), obstacle[2], fill=True))\n",
    "    plt.axis('equal')\n",
    "    plt.show()"
   ]
  },
  {
   "cell_type": "code",
   "execution_count": null,
   "metadata": {},
   "outputs": [],
   "source": [
    "point = np.array([0,0]) # x,y\n",
    "obstacle = [10,0,3] #  x,y,radius (assume that is circle)\n",
    "\n",
    "render(point,obstacle)"
   ]
  },
  {
   "cell_type": "markdown",
   "metadata": {},
   "source": [
    "# Task 1\n",
    "## Check collision point with circle\n",
    "* A - realise check collision\n",
    "* B - think how to avoid collision with that knowledge"
   ]
  },
  {
   "cell_type": "code",
   "execution_count": null,
   "metadata": {},
   "outputs": [],
   "source": [
    "def check_collision(point,obstacle):\n",
    "    # TODO A: return True if point in collision, else False\n",
    "    return False"
   ]
  },
  {
   "cell_type": "code",
   "execution_count": null,
   "metadata": {},
   "outputs": [],
   "source": [
    "point = np.array([0,0]) # x,y\n",
    "obstacle = [10,0,3] #  x,y,radius (assume that is circle)\n",
    "velocity = np.array([1,0]) # vx,vy\n",
    "for _ in range(10):\n",
    "    # TODO B: think how to avoid collision\n",
    "    point = point+velocity # discrete step\n",
    "    collision = check_collision(point, obstacle)\n",
    "    render(point,obstacle)\n",
    "    print(\"collision detected: \", collision)"
   ]
  },
  {
   "cell_type": "markdown",
   "metadata": {},
   "source": [
    "# Task 2\n",
    "## Check collision 2R manipulator with circle\n",
    "* A - realise check collision for joints\n",
    "* B - think how to avoid collision with that knowledge\n",
    "* C(optional) - realise check collision for links"
   ]
  },
  {
   "cell_type": "code",
   "execution_count": null,
   "metadata": {},
   "outputs": [],
   "source": [
    "%matplotlib inline\n",
    "from matplotlib import pyplot as plt\n",
    "import numpy as np\n",
    "\n",
    "def SE2(q):\n",
    "    \"\"\"Given a pose q = [x,y,theta] and a point p = [x,y], it transforms \n",
    "        according to p' = R(theta)p + t. This is a rigid body transformation in 2D\"\"\"\n",
    "    x, y, t = q\n",
    "    T = np.array([\n",
    "        [np.cos(t), -np.sin(t), x],\n",
    "        [np.sin(t),  np.cos(t), y],\n",
    "        [0, 0, 1]])\n",
    "    return T\n",
    "\n",
    "def plot_segment(s, color_):\n",
    "    \"\"\"\n",
    "    Plots a segment in current figures\n",
    "    \"\"\"\n",
    "    plt.plot(s[:,0], s[:,1] , linewidth=2, color=color_)\n",
    "    plt.plot(s[1,0], s[1,1], marker='o', color=color_)\n",
    "    plt.plot(s[0,0], s[0,1], marker='o', color=color_)\n",
    "\n",
    "def move_2R(q):\n",
    "    # return positions of points\n",
    "    joints = np.zeros((3,2))\n",
    "    a1,a2 = q\n",
    "    T1 = SE2(np.array([0,0,a1])) # this is the first joint, a simple rotation\n",
    "    T2 = SE2(np.array([1,0,a2])) # the second joint, it is a bar of d =1, plus a rotation for the second joint\n",
    "    T3 = SE2(np.array([1,0,0]))  # this is simply to express the lenght of the second bar, no rotation required\n",
    "    p = T1 @ T2 @ np.array([0,0,1])\n",
    "    joints[1,:] = p[:2]\n",
    "    p = T1 @ T2 @ T3 @ np.array([0,0,1])\n",
    "    joints[2,:] = p[:2]\n",
    "    return joints\n",
    "\n",
    "def render_2R(joints, obstacle=None, color = [0.8,0.1,0.1]):\n",
    "    \"\"\"Plots the 2R manipulator, a kinematic chain of 2 bars of length 1\"\"\"\n",
    "    plot_segment(joints[[0,1],:],color)\n",
    "    plot_segment(joints[[1,2],:],color)\n",
    "    # plot obstacle\n",
    "    if obstacle is not None:\n",
    "        plt.gca().add_patch(plt.Circle((obstacle[0], obstacle[1]), obstacle[2], fill=True))\n",
    "    plt.axis('equal')\n",
    "    return \n"
   ]
  },
  {
   "cell_type": "code",
   "execution_count": null,
   "metadata": {},
   "outputs": [],
   "source": [
    "angles = np.array([np.pi/2.5,0]) # [angle1,angle2] in radians\n",
    "joints = move_2R(angles)\n",
    "obstacle = [2,0,1] # [x,y,radius]\n",
    "render_2R(joints,obstacle)\n",
    "print(\"positions of joints: \",joints)"
   ]
  },
  {
   "cell_type": "code",
   "execution_count": null,
   "metadata": {},
   "outputs": [],
   "source": [
    "def check_collision_2R(joints, obstacle):\n",
    "    #TODO : return True if manipulator in collision, else False\n",
    "    # A check joints collision\n",
    "    return False\n",
    "\n",
    "def check_collision_2R_segment(joints, obstacle):\n",
    "    #TODO : return True if manipulator in collision, else False\n",
    "    # C(optional) check links collision (line between joints)\n",
    "    return False"
   ]
  },
  {
   "cell_type": "code",
   "execution_count": null,
   "metadata": {},
   "outputs": [],
   "source": [
    "angles = np.array([np.pi/2,0]) # [angle1,angle2] in radians\n",
    "obstacle = [1.5,0,1.] # [x,y,radius]\n",
    "velocity = np.array([-np.pi/20,-np.pi/50]) # [Vel_angle1,Vel_angle2] in radians\n",
    "for step in range(10):\n",
    "    # TODO B: think how to avoid collision\n",
    "    angles = angles+velocity \n",
    "    joints = move_2R(angles)\n",
    "    collision = check_collision_2R(joints,obstacle)\n",
    "    # collision = collision or check_collision_2R_segment(joints,obstacle)\n",
    "    render_2R(joints,obstacle)\n",
    "    print(\"step \",step,\" collision detected: \", collision)"
   ]
  },
  {
   "cell_type": "markdown",
   "metadata": {},
   "source": [
    "### Task 3: Difference with discrete space\n",
    "* A - What would be the size of state space for 2R manipulator with 1-degree descritization?\n",
    "* B - What would be the size of state space for 4R manipulator with 1-degree descritization?\n",
    "* C - Can you explain the differences between discrete space and continuous space?"
   ]
  },
  {
   "cell_type": "code",
   "execution_count": null,
   "metadata": {},
   "outputs": [],
   "source": [
    "# TODO A: 2R manipulator with 1-degree\n",
    "size_of_state_space_2R = 0 # TODO: calculate state space\n",
    "# TODO B: 4R manipulator with 1-degree\n",
    "size_of_state_space_4R = 0 # TODO: calculate state space\n",
    "print(\"size of state space 2R \",size_of_state_space_2R)\n",
    "print(\"size of state space 4R \",size_of_state_space_4R)"
   ]
  },
  {
   "cell_type": "markdown",
   "metadata": {},
   "source": [
    "### Task 4: Distances in manipulator scheme\n",
    "* A - calculate distance between two position of manipulator"
   ]
  },
  {
   "cell_type": "code",
   "execution_count": null,
   "metadata": {},
   "outputs": [],
   "source": [
    "angles_one = np.array([np.pi/2,0]) # [angle1,angle2] in radians\n",
    "angles_two = np.array([np.pi/4,-np.pi/2]) # [angle1,angle2] in radians\n",
    "joints_one = move_2R(angles_one)\n",
    "joints_two = move_2R(angles_two)\n",
    "color_one = [0.8,0.1,0.1]\n",
    "color_two = [0.1,0.8,0.1]\n",
    "render_2R(joints_one, color = color_one)\n",
    "render_2R(joints_two, color = color_two)\n",
    "distance = 0\n",
    "print(\"distance between two manipulator is \", distance)"
   ]
  },
  {
   "cell_type": "code",
   "execution_count": null,
   "metadata": {},
   "outputs": [],
   "source": []
  }
 ],
 "metadata": {
  "interpreter": {
   "hash": "916dbcbb3f70747c44a77c7bcd40155683ae19c65e1c03b4aa3499c5328201f1"
  },
  "kernelspec": {
   "display_name": "Python 3.8.10 64-bit",
   "language": "python",
   "name": "python3"
  },
  "language_info": {
   "codemirror_mode": {
    "name": "ipython",
    "version": 3
   },
   "file_extension": ".py",
   "mimetype": "text/x-python",
   "name": "python",
   "nbconvert_exporter": "python",
   "pygments_lexer": "ipython3",
   "version": "3.8.10"
  },
  "orig_nbformat": 4
 },
 "nbformat": 4,
 "nbformat_minor": 2
}
