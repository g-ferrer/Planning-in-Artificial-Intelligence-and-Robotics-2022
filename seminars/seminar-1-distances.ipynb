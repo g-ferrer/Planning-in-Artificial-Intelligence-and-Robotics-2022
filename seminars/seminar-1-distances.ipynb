{
 "cells": [
  {
   "cell_type": "markdown",
   "metadata": {},
   "source": [
    "# Distances in the C-space\n",
    "In this seminar we will practice some of the concepts discussed in L03\n",
    "\n",
    "## Distance for orientations\n",
    "Angles are the way to express orientations in 2D, that means, for any object that has dimensions, there is going to be an orientation variable that expresses their state.\n",
    "\n",
    "We will start with angles, since this is also one of the easiest manifolds to study. We started presenting angles as elements of the 1-spherical group $\\mathbb{S} = \\{ (x,y) \\in \\mathbb{R}^2 | x^2+y^2=1\\}$.\n",
    "\n",
    "Our first task is to play around with distances here, below is provided some code for visualization."
   ]
  },
  {
   "cell_type": "code",
   "execution_count": null,
   "metadata": {},
   "outputs": [],
   "source": [
    "import numpy as np\n",
    "import matplotlib.pyplot as plt"
   ]
  },
  {
   "cell_type": "code",
   "execution_count": null,
   "metadata": {},
   "outputs": [],
   "source": [
    "def plot_segment(s, color_):\n",
    "    \"\"\"\n",
    "    Plots a segment in current figures\n",
    "    \"\"\"\n",
    "    plt.plot(s[:,0], s[:,1] , linewidth=2, color=color_)\n",
    "    plt.plot(s[1,0], s[1,1], marker='o', color=color_)\n",
    "    plt.plot(s[0,0], s[0,1], marker='o', color=color_)\n",
    "\n",
    "def plot_angles(angle1, angle2):\n",
    "    \"\"\"\n",
    "    Plots a pair of angles in the S group\n",
    "    \"\"\"\n",
    "    plt.figure(figsize=(9, 9))\n",
    "    n = 50\n",
    "    circle = np.zeros((2, n))\n",
    "    for i in range(n):\n",
    "        theta = i / (n - 1) * 2 * np.pi\n",
    "        x, y = np.cos(theta), np.sin(theta)\n",
    "        circle[:, i] = [x, y]\n",
    "    plt.plot(circle[0,:], circle[1,:])\n",
    "    segment1 = np.array([[0,0],\n",
    "                         [np.cos(angle1), np.sin(angle1)]])\n",
    "    color = np.array([1,0,0])\n",
    "    plot_segment(segment1, color)\n",
    "    segment2 = np.array([[0,0],\n",
    "                         [np.cos(angle2), np.sin(angle2)]])\n",
    "    color = np.array([0,1,0])\n",
    "    plot_segment(segment2, color)\n",
    "    plt.show()\n",
    "\n",
    "def wrap_angle(angle):\n",
    "    \"\"\"\n",
    "    Wraps the given angle to the range [-pi, +pi].\n",
    "\n",
    "    :param angle: The angle (in rad) to wrap (can be unbounded).\n",
    "    :return: The wrapped angle (guaranteed to in [-pi, +pi]).\n",
    "    \"\"\"\n",
    "\n",
    "    pi2 = 2 * np.pi\n",
    "\n",
    "    while angle < -np.pi:\n",
    "        angle += pi2\n",
    "\n",
    "    while angle >= np.pi:\n",
    "        angle -= pi2\n",
    "\n",
    "    return angle"
   ]
  },
  {
   "cell_type": "markdown",
   "metadata": {},
   "source": [
    "### Task 1: Plot some random pair of configurations and calculate the raw distance between angles and proper angle distance as decribed in class\n",
    "\n",
    "Check for distances comparing both angles and visualize its value as elements of $\\mathbb{S}$. Interesting points around 3, 6, -6, etc"
   ]
  },
  {
   "cell_type": "code",
   "execution_count": null,
   "metadata": {},
   "outputs": [],
   "source": [
    "angle1, angle2 = 0.0, 0.1  # 1: red, 2: green\n",
    "plot_angles(angle1, angle2)\n",
    "standart_dist = ...\n",
    "correct_dist = ...\n",
    "print('standard distance = ', standart_dist)\n",
    "print('Angle distance = ', correct_dist)"
   ]
  },
  {
   "cell_type": "markdown",
   "metadata": {},
   "source": [
    "### Task 2: fix one of the angles and range the values of the second variable\n",
    "Plot the resultant figure, for distances and angle distances for $\\theta_1 = 0$\n",
    "\n",
    "$f(\\theta_2) = d(\\theta_1,\\theta_2), \\quad \\theta_2 \\in [-10,10]$"
   ]
  },
  {
   "cell_type": "code",
   "execution_count": null,
   "metadata": {},
   "outputs": [],
   "source": [
    "# for angle in N:\n",
    "#    standart_dist[angle] = ...\n",
    "#    correct_dist[angle] = ...\n",
    "# plt.plot ..."
   ]
  },
  {
   "cell_type": "markdown",
   "metadata": {},
   "source": [
    "### (optional topic) There is an alternative to describe angles: $SO(2)$\n",
    "\n",
    "$SO(2)$ are the group of rotations in 2D. More formally: $SO(2) = \\{R \\in \\mathbb{R}^{2\\times 2} | R\\cdot R^{\\top} = I, \\text{det}(R) = 1 \\}$.\n",
    "\n",
    "For this, we know that only a single variable is required to determine all possible rotation matrices:\n",
    "\n",
    "$$\n",
    "R(\\theta) = \\begin{bmatrix}\n",
    "  \\cos (\\theta) & - \\sin (\\theta )\\\\\n",
    "  \\sin ( \\theta)  &  \\cos ( \\theta)\n",
    "\\end{bmatrix}\n",
    "$$\n",
    "\n",
    "Distances can be defined in terms of rotation matrices, and the result is exactly the same as wraping. So, for 2D, it does not make sense but for 3D it could be a very useful tool for representing rotations and measuring distances:\n",
    "\n",
    "$$d(\\theta_1,\\theta_2) = d(R_1,R_2) = || \\text{Log}(R_1 \\cdot R_2^{\\top})||$$\n",
    "\n",
    "where the $\\text{Log}()$ function can be understand as an inverse mapping from the rotation matrix to a single variable, the angle."
   ]
  },
  {
   "cell_type": "markdown",
   "metadata": {},
   "source": [
    "### Task 3: Distance of 2D poses\n",
    "for this task, we will consider 2d poses as a position and an orientation $q = [x,y,\\theta]^{\\top} \\in \\mathbb{R}^2\\times \\mathbb{S}$.\n",
    "\n",
    "The first task is to construct a distance function for any two configurations. Use the visualization tools for ploting.\n",
    "\n",
    "<!-- For a more comprehensive explanation on 2D poses, you can take a look at the lecture 5 in the course Perception in Robotics, class notes and the seminar work. -->"
   ]
  },
  {
   "cell_type": "code",
   "execution_count": null,
   "metadata": {},
   "outputs": [],
   "source": [
    "def plot_2d_poses(q1,q2):\n",
    "    \"\"\"given two configurations q1, q2, the function plots the poses of 2D objects\"\"\"\n",
    "    triangle = np.array([[-1,-1],\n",
    "                         [-1,1],\n",
    "                         [1.5,0]])\n",
    "    plt.figure(figsize=(9, 9))\n",
    "    color = np.array([1,0,0])\n",
    "    # Transform first object to the world coordinates\n",
    "    triangle1 = np.zeros((3,2))\n",
    "    for i in range(3):\n",
    "        triangle1[i,:] = transform_point(q1,triangle[i,:])\n",
    "    plot_segment(triangle1[[0,1],:], color)\n",
    "    plot_segment(triangle1[[0,2],:], color)\n",
    "    plot_segment(triangle1[[1,2],:], color)\n",
    "    plt.plot(q1[0], q1[1], markersize=15, marker='*', color=color)\n",
    "    \n",
    "    # Transform second object to the world coordinates\n",
    "    triangle2 = np.zeros((3,2))\n",
    "    for i in range(3):\n",
    "        triangle2[i,:] = transform_point(q2,triangle[i,:])\n",
    "    color = np.array([0,1,0])\n",
    "    plot_segment(triangle2[[0,1],:], color)\n",
    "    plot_segment(triangle2[[0,2],:], color)\n",
    "    plot_segment(triangle2[[1,2],:], color)\n",
    "    plt.plot(q2[0], q2[1], markersize=15, marker='*', color=color)\n",
    "    #plt.plot(triangle2[0,0], triangle2[0,1], markersize=15, marker='*', color=color)\n",
    "    plt.axis('equal')\n",
    "    plt.show()\n",
    "    \n",
    "\n",
    "def c(t):\n",
    "    return np.cos(t)\n",
    "\n",
    "def s(t):\n",
    "    return np.sin(t)\n",
    "\n",
    "def SE2(q):\n",
    "    \"\"\"Returns the SE2  transformation matrix consisting of a translation and rotation in 2-D\"\"\"\n",
    "    x, y, t = q\n",
    "    T = np.array([\n",
    "        [c(t), -s(t), x],\n",
    "        [s(t), c(t), y],\n",
    "        [0, 0, 1]])\n",
    "    return T\n",
    "\n",
    "def transform_point(q,p):\n",
    "    \"\"\"Given a pose q = [x,y,theta] and a point p = [x,y], it transforms \n",
    "    according to p' = R(theta)p + t. This is a rigid body transformation in 2D\"\"\"\n",
    "    T = SE2(q)\n",
    "    p_homogeneous = np.array([p[0],p[1],1])\n",
    "    p_new = T @ p_homogeneous\n",
    "    return p_new[:2]"
   ]
  },
  {
   "cell_type": "markdown",
   "metadata": {},
   "source": [
    "### Task 4: Play around with different configuration and propose a distance metric\n",
    "There is not right answer here, define a new metric for measuring distances between the 2 objects"
   ]
  },
  {
   "cell_type": "code",
   "execution_count": null,
   "metadata": {},
   "outputs": [],
   "source": [
    "q1 = np.array([0,0,0]) # red\n",
    "q2 = np.array([0,1,0]) # green\n",
    "plot_2d_poses(q1,q2)"
   ]
  },
  {
   "cell_type": "code",
   "execution_count": null,
   "metadata": {},
   "outputs": [],
   "source": [
    "# def get_distance(q1,q2):\n",
    "# return ..."
   ]
  },
  {
   "cell_type": "markdown",
   "metadata": {},
   "source": [
    "### task 5: 2R manipulator\n",
    "The 2R manipulator consist of 2 revolute joints. Here, the configuration space is $q = [\\theta_1, \\theta_2] \\in \\mathbb{S}\\times \\mathbb{S}$.\n",
    "\n",
    "Use the utilities provided below to visualize different configurations while defining different distance functions:\n",
    "\n",
    " * Distance between joint values\n",
    " * Weighted distance between joint values\n",
    " * Distance of the end effector in workspace\n",
    " * Other alternatives"
   ]
  },
  {
   "cell_type": "code",
   "execution_count": null,
   "metadata": {},
   "outputs": [],
   "source": [
    "def plot_2R(q, color):\n",
    "    \"\"\"Plots the 2R manipulator, a kinematic chain of 2 bars of length 1\"\"\"\n",
    "    # segment 1:\n",
    "    seg = np.zeros((3,2))\n",
    "    a1,a2 = q\n",
    "    T1 = SE2(np.array([0,0,a1])) # this is the first joint, a simple rotation\n",
    "    T2 = SE2(np.array([1,0,a2])) # the second joint, it is a bar of d =1, plus a rotation for the second joint\n",
    "    T3 = SE2(np.array([1,0,0]))  # this is simply to express the lenght of the second bar, no rotation required\n",
    "    p = T1 @ T2 @ np.array([0,0,1])\n",
    "    seg[1,:] = p[:2]\n",
    "    p = T1 @ T2 @ T3 @ np.array([0,0,1])\n",
    "    seg[2,:] = p[:2]\n",
    "    plot_segment(seg[[0,1],:], color)\n",
    "    plot_segment(seg[[1,2],:], color)\n",
    "    plt.axis('equal')\n",
    "    return seg[1,:], seg[2,:]\n",
    "\n",
    "def plot_pair_2R(q1,q2):\n",
    "    \"\"\"Plot a pair of 2R configurations\"\"\"\n",
    "    c = np.array([1,0,0])\n",
    "    plot_2R(q1,c)\n",
    "    c = np.array([0,1,0])\n",
    "    plot_2R(q2,c)\n",
    "    plt.axis('equal')\n",
    "    plt.show()"
   ]
  },
  {
   "cell_type": "code",
   "execution_count": null,
   "metadata": {},
   "outputs": [],
   "source": [
    "color = np.array([1,0,0])\n",
    "p1,p2 = plot_2R(np.array([0.0,0.0]),color)\n",
    "print(p1,p2)"
   ]
  },
  {
   "cell_type": "code",
   "execution_count": null,
   "metadata": {},
   "outputs": [],
   "source": [
    "q1 = np.array([0,0]) # red\n",
    "q2 = np.array([0.2,- np.pi+0.1]) # green\n",
    "plot_pair_2R(q1,q2)"
   ]
  },
  {
   "cell_type": "code",
   "execution_count": null,
   "metadata": {},
   "outputs": [],
   "source": []
  }
 ],
 "metadata": {
  "kernelspec": {
   "display_name": "Python 3",
   "language": "python",
   "name": "python3"
  },
  "language_info": {
   "codemirror_mode": {
    "name": "ipython",
    "version": 3
   },
   "file_extension": ".py",
   "mimetype": "text/x-python",
   "name": "python",
   "nbconvert_exporter": "python",
   "pygments_lexer": "ipython3",
   "version": "3.8.3"
  }
 },
 "nbformat": 4,
 "nbformat_minor": 5
}
